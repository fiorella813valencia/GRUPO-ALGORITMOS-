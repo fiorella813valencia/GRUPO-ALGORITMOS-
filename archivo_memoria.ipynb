{
  "nbformat": 4,
  "nbformat_minor": 0,
  "metadata": {
    "colab": {
      "name": "Untitled2.ipynb",
      "provenance": [],
      "collapsed_sections": [],
      "authorship_tag": "ABX9TyNIXzjnbzWr4uYOeQbDw0bE"
    },
    "kernelspec": {
      "name": "python3",
      "display_name": "Python 3"
    },
    "language_info": {
      "name": "python"
    }
  },
  "cells": [
    {
      "cell_type": "code",
      "metadata": {
        "colab": {
          "base_uri": "https://localhost:8080/"
        },
        "id": "GQHYzUK1ga8Y",
        "outputId": "8e887623-6b3b-4add-d045-c19478d7c10a"
      },
      "source": [
        "%%writefile archivos.cpp\n",
        "#include <iostream>\n",
        "#include <fstream>\n",
        "#include <string>\n",
        "using namespace std;\n",
        "\n",
        "void Lectura_datos(){\n",
        "    string resultado[20];\n",
        "    ifstream archivo(\"archivo_text.txt\");\n",
        "    for(int i=0; i<20; i++){\n",
        "        archivo>>resultado[i];\n",
        "        cout<<resultado[i]<<endl;\n",
        "    }\n",
        "    archivo.close();\n",
        "}\n",
        "int main(){\n",
        "    Lectura_datos();\n",
        "    return 0;\n",
        "}"
      ],
      "execution_count": 67,
      "outputs": [
        {
          "output_type": "stream",
          "text": [
            "Overwriting archivos.cpp\n"
          ],
          "name": "stdout"
        }
      ]
    },
    {
      "cell_type": "code",
      "metadata": {
        "colab": {
          "base_uri": "https://localhost:8080/"
        },
        "id": "JB9rIFbSk6ly",
        "outputId": "d6a0997e-4720-4e9f-d413-67366aec5310"
      },
      "source": [
        "!g++ archivos.cpp && ./a.out"
      ],
      "execution_count": 68,
      "outputs": [
        {
          "output_type": "stream",
          "text": [
            "1imagen_lider.png\n",
            "1imagen_aliado.png\n",
            "1imagen_agente.png\n",
            "1imagen_fondo.jpg\n",
            "1imagen_casa1.png\n",
            "1imagen_casa2.png\n",
            "1imagen_casa3.png\n",
            "1imagen_banco.png\n",
            "1imagen_moneda.png\n",
            "1imagen_casa1_new.png\n",
            "1imagen_casa2_new.png\n",
            "1imagen_casa3_new.png\n",
            "1imagen_pileta.png\n",
            "1imagen_poblacion.png\n",
            "1imagen_fire.png\n",
            "2imagen_lider.png\n",
            "2imagen_aliado.png\n",
            "2imagen_agente.png\n",
            "2imagen_tierra.png\n",
            "\n"
          ],
          "name": "stdout"
        }
      ]
    }
  ]
}